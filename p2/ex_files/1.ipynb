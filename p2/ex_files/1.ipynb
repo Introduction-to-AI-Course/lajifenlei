{
  "nbformat": 4,
  "nbformat_minor": 0,
  "metadata": {
    "colab": {
      "name": "Untitled1(1)(1).ipynb",
      "provenance": [],
      "collapsed_sections": []
    },
    "kernelspec": {
      "name": "python3",
      "display_name": "Python 3"
    },
    "accelerator": "GPU"
  },
  "cells": [
    {
      "cell_type": "code",
      "metadata": {
        "id": "fyF9eDTsHY0k",
        "colab_type": "code",
        "outputId": "7201323d-c065-4628-b8d1-9496e53eb27d",
        "colab": {
          "base_uri": "https://localhost:8080/",
          "height": 72
        }
      },
      "source": [
        "import os\n",
        "import shutil\n",
        "import torch\n",
        "import collections\n",
        "from torchvision import transforms,datasets\n",
        "from __future__ import print_function, division\n",
        "import os\n",
        "import torch\n",
        "import pylab\n",
        "import pandas as pd\n",
        "import torch.nn as nn\n",
        "import torch.nn.functional as F\n",
        "from torch.autograd import Variable\n",
        "from skimage import io, transform\n",
        "import numpy as np\n",
        "import matplotlib.pyplot as plt\n",
        "from torch.utils.data import Dataset, DataLoader\n",
        "from torchvision import transforms, utils\n",
        "import zipfile as zf\n",
        "from fastai.vision import *\n",
        "from fastai.metrics import error_rate\n",
        "from pathlib import Path\n",
        "from glob2 import glob\n",
        "from sklearn.metrics import confusion_matrix\n",
        "\n",
        "import pandas as pd\n",
        "import numpy as np\n",
        "import os\n",
        "import zipfile as zf\n",
        "import shutil\n",
        "import re\n",
        "import seaborn as sns\n",
        "# Ignore warnings\n",
        "import warnings\n",
        "warnings.filterwarnings(\"ignore\")\n",
        " \n",
        "plt.ion()   # interactive mode\n"
      ],
      "execution_count": 1,
      "outputs": [
        {
          "output_type": "stream",
          "text": [
            "/usr/local/lib/python3.6/dist-packages/statsmodels/tools/_testing.py:19: FutureWarning: pandas.util.testing is deprecated. Use the functions in the public API at pandas.testing instead.\n",
            "  import pandas.util.testing as tm\n"
          ],
          "name": "stderr"
        }
      ]
    },
    {
      "cell_type": "code",
      "metadata": {
        "id": "UwPmU5gYHrWN",
        "colab_type": "code",
        "colab": {}
      },
      "source": [
        "import math\n",
        "from PIL import Image\n",
        " \n",
        "class Resize(object):\n",
        "    \"\"\"Resize the input PIL Image to the given size.\n",
        "    Args:\n",
        "        size (sequence or int): Desired output size. If size is a sequence like\n",
        "            (h, w), output size will be matched to this. If size is an int,\n",
        "            smaller edge of the image will be matched to this number.\n",
        "            i.e, if height > width, then image will be rescaled to\n",
        "            (size * height / width, size)\n",
        "        interpolation (int, optional): Desired interpolation. Default is\n",
        "            ``PIL.Image.BILINEAR``\n",
        "    \"\"\"\n",
        " \n",
        "    def __init__(self, size, interpolation=Image.BILINEAR):\n",
        "        # assert isinstance(size, int) or (isinstance(size, collections.Iterable) and len(size) == 2)\n",
        "        self.size = size\n",
        "        self.interpolation = interpolation\n",
        " \n",
        "    def __call__(self, img):\n",
        "        w,h = img.size\n",
        "        \n",
        "        min_edge = min(img.size)\n",
        "        rate = min_edge / self.size\n",
        "        \n",
        "        new_w = math.ceil(w / rate)\n",
        "        new_h = math.ceil(h / rate)\n",
        "        \n",
        "        return img.resize((new_w,new_h))\n"
      ],
      "execution_count": 0,
      "outputs": []
    },
    {
      "cell_type": "code",
      "metadata": {
        "id": "sxiPD0DjKH8t",
        "colab_type": "code",
        "outputId": "edeab98e-18c9-4f9d-b5c8-b344648b3eb2",
        "colab": {
          "base_uri": "https://localhost:8080/",
          "height": 124
        }
      },
      "source": [
        "from google.colab import drive\n",
        "drive.mount(\"/content/drive\")\n",
        "files = zf.ZipFile(\"/content/drive/My Drive/python/dataset-resized.zip\",\"r\")\n",
        "files.extractall()\n",
        "files.close()"
      ],
      "execution_count": 3,
      "outputs": [
        {
          "output_type": "stream",
          "text": [
            "Go to this URL in a browser: https://accounts.google.com/o/oauth2/auth?client_id=947318989803-6bn6qk8qdgf4n4g3pfee6491hc0brc4i.apps.googleusercontent.com&redirect_uri=urn%3aietf%3awg%3aoauth%3a2.0%3aoob&response_type=code&scope=email%20https%3a%2f%2fwww.googleapis.com%2fauth%2fdocs.test%20https%3a%2f%2fwww.googleapis.com%2fauth%2fdrive%20https%3a%2f%2fwww.googleapis.com%2fauth%2fdrive.photos.readonly%20https%3a%2f%2fwww.googleapis.com%2fauth%2fpeopleapi.readonly\n",
            "\n",
            "Enter your authorization code:\n",
            "··········\n",
            "Mounted at /content/drive\n"
          ],
          "name": "stdout"
        }
      ]
    },
    {
      "cell_type": "code",
      "metadata": {
        "id": "t3H2LksQKDu9",
        "colab_type": "code",
        "outputId": "1d5e389e-fc04-46c0-c747-9ed4a11fea58",
        "colab": {
          "base_uri": "https://localhost:8080/",
          "height": 35
        }
      },
      "source": [
        "os.listdir(os.path.join(os.getcwd(),\"dataset-resized\"))"
      ],
      "execution_count": 4,
      "outputs": [
        {
          "output_type": "execute_result",
          "data": {
            "text/plain": [
              "['.DS_Store', 'plastic', 'trash', 'paper', 'cardboard', 'metal', 'glass']"
            ]
          },
          "metadata": {
            "tags": []
          },
          "execution_count": 4
        }
      ]
    },
    {
      "cell_type": "code",
      "metadata": {
        "id": "TEJYYx1zKNsg",
        "colab_type": "code",
        "colab": {}
      },
      "source": [
        "def split_indices(folder,seed1):    \n",
        "    n = len(os.listdir(folder))\n",
        "    full_set = list(range(1,n+1))\n",
        "\n",
        "    ## train indices\n",
        "    random.seed(seed1)\n",
        "    train = random.sample(list(range(1,n+1)),int(.8*n))\n",
        "\n",
        "    ##  test\n",
        "    test = list(set(full_set)-set(train))\n",
        "    \n",
        "    return(train,test)\n",
        "\n",
        "## gets file names for a particular type of trash, given indices\n",
        "    ## input: waste category and indices\n",
        "    ## output: file names \n",
        "def get_names(waste_type,indices):\n",
        "    file_names = [waste_type+str(i)+\".jpg\" for i in indices]\n",
        "    return(file_names)    \n",
        "\n",
        "## moves group of source files to another folder\n",
        "    ## input: list of source files and destination folder\n",
        "    ## no output\n",
        "def move_files(source_files,destination_folder):\n",
        "    for file in source_files:\n",
        "        shutil.move(file,destination_folder)"
      ],
      "execution_count": 0,
      "outputs": []
    },
    {
      "cell_type": "code",
      "metadata": {
        "id": "G5-bsrURMBLa",
        "colab_type": "code",
        "colab": {}
      },
      "source": [
        "## paths will be train/cardboard, train/glass, etc...\n",
        "waste_types = ['cardboard','glass','metal','paper','plastic','trash']\n",
        "\n",
        "## create destination folders for data subset and waste type\n",
        "for waste_type in waste_types:\n",
        "      folder = os.path.join('data','train',waste_type)\n",
        "      if not os.path.exists(folder):\n",
        "          os.makedirs(folder)\n",
        "            \n",
        "# if not os.path.exists(os.path.join('data','test')):\n",
        "#     os.makedirs(os.path.join('data','test'))\n",
        "for waste_type in waste_types:\n",
        "      folder = os.path.join('data','test',waste_type)\n",
        "      if not os.path.exists(folder):\n",
        "          os.makedirs(folder)"
      ],
      "execution_count": 0,
      "outputs": []
    },
    {
      "cell_type": "code",
      "metadata": {
        "id": "fdvfPr4FOh0j",
        "colab_type": "code",
        "colab": {}
      },
      "source": [
        "## move files to destination folders for each waste type\n",
        "for waste_type in waste_types:\n",
        "    source_folder = os.path.join('dataset-resized',waste_type)\n",
        "    train_ind,test_ind = split_indices(source_folder,1)\n",
        "    \n",
        "    ## move source files to train\n",
        "    train_names = get_names(waste_type,train_ind)\n",
        "    train_source_files = [os.path.join(source_folder,name) for name in train_names]\n",
        "    train_dest = \"data/train/\"+waste_type\n",
        "    move_files(train_source_files,train_dest)\n",
        "    \n",
        "    ## move source files to test\n",
        "    test_names = get_names(waste_type,test_ind)\n",
        "    test_source_files = [os.path.join(source_folder,name) for name in test_names]\n",
        "    ## I use data/test here because the images can be mixed up\n",
        "    test_dest = \"data/test/\"+waste_type\n",
        "    move_files(test_source_files,test_dest)"
      ],
      "execution_count": 0,
      "outputs": []
    },
    {
      "cell_type": "code",
      "metadata": {
        "id": "m9LDKDyTSGCS",
        "colab_type": "code",
        "colab": {}
      },
      "source": [
        "## 数据集扩充\n",
        "from PIL import ImageEnhance\n",
        "import os\n",
        "import numpy as np\n",
        "from PIL import Image\n",
        "\n",
        "def brightnessEnhancement(root_path,img_name):#亮度增强\n",
        "    image = Image.open(os.path.join(root_path, img_name))\n",
        "    enh_bri = ImageEnhance.Brightness(image)\n",
        "    # brightness = 1.1+0.4*np.random.random()#取值范围1.1-1.5\n",
        "    brightness = 1.5\n",
        "    image_brightened = enh_bri.enhance(brightness)\n",
        "    return image_brightened\n",
        "\n",
        "\n",
        "def contrastEnhancement(root_path, img_name):  # 对比度增强\n",
        "    image = Image.open(os.path.join(root_path, img_name))\n",
        "    enh_con = ImageEnhance.Contrast(image)\n",
        "    # contrast = 1.1+0.4*np.random.random()#取值范围1.1-1.5\n",
        "    contrast = 1.5\n",
        "    image_contrasted = enh_con.enhance(contrast)\n",
        "    return image_contrasted\n",
        "\n",
        "def rotation(root_path, img_name):\n",
        "    img = Image.open(os.path.join(root_path, img_name))\n",
        "    random_angle = np.random.randint(-2, 2)*90\n",
        "    if random_angle==0:\n",
        "     rotation_img = img.rotate(-90) #旋转角度\n",
        "    else:\n",
        "        rotation_img = img.rotate( random_angle)  # 旋转角度\n",
        "    # rotation_img.save(os.path.join(root_path,img_name.split('.')[0] + '_rotation.jpg'))\n",
        "    return rotation_img\n",
        "\n",
        "def flip(root_path,img_name):   #翻转图像\n",
        "    img = Image.open(os.path.join(root_path, img_name))\n",
        "    filp_img = img.transpose(Image.FLIP_LEFT_RIGHT)\n",
        "    # filp_img.save(os.path.join(root_path,img_name.split('.')[0] + '_flip.jpg'))\n",
        "    return filp_img\n",
        "\n",
        "\n",
        "def createImage(imageDir,saveDir):\n",
        "   i=0\n",
        "   for name in os.listdir(imageDir):\n",
        "      i=i+1\n",
        "      saveName=\"cesun\"+str(i)+\".jpg\"\n",
        "      saveImage=contrastEnhancement(imageDir,name)\n",
        "      saveImage.save(os.path.join(saveDir,saveName))\n",
        "      saveName1 = \"flip\" + str(i) + \".jpg\"\n",
        "      saveImage1 = flip(imageDir,name)\n",
        "      saveImage1.save(os.path.join(saveDir, saveName1))\n",
        "      saveName2 = \"brightnessE\" + str(i) + \".jpg\"\n",
        "      saveImage2 = brightnessEnhancement(imageDir, name)\n",
        "      saveImage2.save(os.path.join(saveDir, saveName2))\n",
        "      saveName3 = \"rotate\" + str(i) + \".jpg\"\n",
        "      saveImage = rotation(imageDir, name)\n",
        "      saveImage.save(os.path.join(saveDir, saveName3))\n"
      ],
      "execution_count": 0,
      "outputs": []
    },
    {
      "cell_type": "code",
      "metadata": {
        "id": "2ebCMtRNSGPH",
        "colab_type": "code",
        "colab": {}
      },
      "source": [
        "for waste_type in waste_types:\n",
        "    imageDir= '/content/data/train/'+waste_type #要改变的图片的路径文件夹\n",
        "    saveDir= '/content/data/train/'+waste_type   #数据增强生成图片的路径文件夹\n",
        "    createImage(imageDir,saveDir)\n"
      ],
      "execution_count": 0,
      "outputs": []
    },
    {
      "cell_type": "code",
      "metadata": {
        "id": "FcqQXKEOUDPc",
        "colab_type": "code",
        "outputId": "626cfa88-dd4b-4eee-b37a-9fcb70324879",
        "colab": {
          "base_uri": "https://localhost:8080/",
          "height": 55
        }
      },
      "source": [
        "print(os.listdir('/content/data/train/'+'cardboard'))"
      ],
      "execution_count": 10,
      "outputs": [
        {
          "output_type": "stream",
          "text": [
            "['cardboard213.jpg', 'cardboard88.jpg', 'cesun113.jpg', 'brightnessE209.jpg', 'brightnessE210.jpg', 'cesun288.jpg', 'rotate318.jpg', 'flip95.jpg', 'cesun287.jpg', 'cesun154.jpg', 'cesun178.jpg', 'rotate110.jpg', 'cesun196.jpg', 'rotate241.jpg', 'cesun119.jpg', 'rotate187.jpg', 'cardboard78.jpg', 'brightnessE203.jpg', 'cesun219.jpg', 'brightnessE185.jpg', 'brightnessE303.jpg', 'flip111.jpg', 'flip69.jpg', 'cesun173.jpg', 'cardboard315.jpg', 'flip184.jpg', 'flip127.jpg', 'cesun303.jpg', 'cesun38.jpg', 'flip214.jpg', 'cesun120.jpg', 'cesun264.jpg', 'cesun110.jpg', 'flip44.jpg', 'brightnessE224.jpg', 'brightnessE286.jpg', 'cesun70.jpg', 'rotate159.jpg', 'cesun176.jpg', 'cardboard319.jpg', 'cardboard83.jpg', 'rotate200.jpg', 'cesun213.jpg', 'cesun139.jpg', 'brightnessE277.jpg', 'brightnessE15.jpg', 'brightnessE13.jpg', 'rotate240.jpg', 'flip92.jpg', 'rotate242.jpg', 'cesun232.jpg', 'flip229.jpg', 'brightnessE139.jpg', 'cesun223.jpg', 'cardboard214.jpg', 'cesun78.jpg', 'rotate30.jpg', 'flip177.jpg', 'brightnessE141.jpg', 'flip187.jpg', 'flip196.jpg', 'cardboard386.jpg', 'flip202.jpg', 'rotate10.jpg', 'cardboard275.jpg', 'cesun93.jpg', 'flip154.jpg', 'brightnessE128.jpg', 'cesun27.jpg', 'rotate58.jpg', 'flip295.jpg', 'cesun126.jpg', 'cesun89.jpg', 'brightnessE226.jpg', 'cesun175.jpg', 'cesun259.jpg', 'brightnessE74.jpg', 'cesun228.jpg', 'rotate163.jpg', 'brightnessE310.jpg', 'rotate263.jpg', 'rotate88.jpg', 'cesun48.jpg', 'rotate108.jpg', 'rotate171.jpg', 'rotate133.jpg', 'cardboard160.jpg', 'brightnessE93.jpg', 'flip26.jpg', 'brightnessE228.jpg', 'brightnessE21.jpg', 'rotate289.jpg', 'cardboard76.jpg', 'brightnessE107.jpg', 'rotate258.jpg', 'rotate213.jpg', 'brightnessE285.jpg', 'cardboard166.jpg', 'flip159.jpg', 'cesun26.jpg', 'cesun98.jpg', 'flip6.jpg', 'cardboard402.jpg', 'brightnessE244.jpg', 'cesun275.jpg', 'cesun272.jpg', 'rotate101.jpg', 'cardboard378.jpg', 'brightnessE88.jpg', 'brightnessE262.jpg', 'cesun320.jpg', 'flip258.jpg', 'cesun306.jpg', 'brightnessE265.jpg', 'cesun305.jpg', 'cesun313.jpg', 'brightnessE167.jpg', 'brightnessE313.jpg', 'cesun204.jpg', 'rotate311.jpg', 'flip24.jpg', 'brightnessE268.jpg', 'rotate3.jpg', 'flip195.jpg', 'cardboard257.jpg', 'flip317.jpg', 'rotate270.jpg', 'cesun100.jpg', 'brightnessE187.jpg', 'cesun18.jpg', 'cesun261.jpg', 'brightnessE174.jpg', 'brightnessE241.jpg', 'cardboard162.jpg', 'cesun77.jpg', 'brightnessE234.jpg', 'rotate150.jpg', 'flip233.jpg', 'rotate169.jpg', 'brightnessE147.jpg', 'flip173.jpg', 'cesun209.jpg', 'cesun138.jpg', 'flip140.jpg', 'rotate96.jpg', 'cardboard357.jpg', 'cesun187.jpg', 'cesun29.jpg', 'rotate138.jpg', 'brightnessE102.jpg', 'rotate287.jpg', 'cardboard263.jpg', 'flip32.jpg', 'cesun267.jpg', 'brightnessE181.jpg', 'cardboard23.jpg', 'rotate181.jpg', 'cardboard111.jpg', 'cardboard222.jpg', 'cesun49.jpg', 'flip137.jpg', 'rotate135.jpg', 'cardboard258.jpg', 'cesun282.jpg', 'brightnessE219.jpg', 'flip286.jpg', 'rotate239.jpg', 'rotate313.jpg', 'cesun220.jpg', 'brightnessE114.jpg', 'brightnessE91.jpg', 'cardboard100.jpg', 'rotate245.jpg', 'cesun148.jpg', 'cesun177.jpg', 'flip33.jpg', 'brightnessE42.jpg', 'flip107.jpg', 'cesun129.jpg', 'cardboard35.jpg', 'cardboard69.jpg', 'cesun237.jpg', 'cesun31.jpg', 'cardboard394.jpg', 'cardboard107.jpg', 'flip80.jpg', 'brightnessE118.jpg', 'flip282.jpg', 'cardboard252.jpg', 'brightnessE165.jpg', 'cesun202.jpg', 'flip316.jpg', 'rotate191.jpg', 'cesun7.jpg', 'brightnessE311.jpg', 'brightnessE146.jpg', 'flip72.jpg', 'cesun135.jpg', 'cardboard97.jpg', 'rotate269.jpg', 'rotate73.jpg', 'cardboard215.jpg', 'cesun188.jpg', 'rotate305.jpg', 'cardboard135.jpg', 'cardboard66.jpg', 'cardboard133.jpg', 'cardboard229.jpg', 'brightnessE283.jpg', 'cesun9.jpg', 'cesun25.jpg', 'rotate57.jpg', 'brightnessE44.jpg', 'cardboard309.jpg', 'cesun74.jpg', 'brightnessE87.jpg', 'rotate59.jpg', 'brightnessE246.jpg', 'cardboard70.jpg', 'cardboard106.jpg', 'brightnessE308.jpg', 'flip279.jpg', 'cardboard43.jpg', 'rotate180.jpg', 'cesun297.jpg', 'cardboard262.jpg', 'flip141.jpg', 'flip290.jpg', 'cardboard227.jpg', 'flip318.jpg', 'rotate152.jpg', 'brightnessE172.jpg', 'brightnessE120.jpg', 'flip41.jpg', 'brightnessE63.jpg', 'cesun240.jpg', 'cesun280.jpg', 'brightnessE34.jpg', 'flip278.jpg', 'cardboard62.jpg', 'flip81.jpg', 'flip117.jpg', 'brightnessE9.jpg', 'cesun274.jpg', 'brightnessE41.jpg', 'cesun314.jpg', 'cardboard312.jpg', 'brightnessE145.jpg', 'cardboard110.jpg', 'brightnessE126.jpg', 'cardboard308.jpg', 'brightnessE183.jpg', 'rotate307.jpg', 'flip199.jpg', 'cesun134.jpg', 'brightnessE52.jpg', 'cesun33.jpg', 'rotate29.jpg', 'cardboard205.jpg', 'flip126.jpg', 'rotate89.jpg', 'flip155.jpg', 'cardboard332.jpg', 'cardboard264.jpg', 'rotate123.jpg', 'cesun35.jpg', 'cesun36.jpg', 'flip66.jpg', 'brightnessE152.jpg', 'cardboard298.jpg', 'brightnessE274.jpg', 'rotate28.jpg', 'brightnessE247.jpg', 'brightnessE196.jpg', 'cesun224.jpg', 'rotate92.jpg', 'cesun249.jpg', 'cesun230.jpg', 'cardboard325.jpg', 'rotate132.jpg', 'rotate210.jpg', 'rotate122.jpg', 'rotate278.jpg', 'flip38.jpg', 'brightnessE31.jpg', 'cesun63.jpg', 'rotate294.jpg', 'cardboard10.jpg', 'brightnessE45.jpg', 'flip230.jpg', 'flip56.jpg', 'rotate232.jpg', 'rotate301.jpg', 'flip35.jpg', 'brightnessE1.jpg', 'rotate5.jpg', 'flip145.jpg', 'cesun258.jpg', 'rotate107.jpg', 'cesun40.jpg', 'cardboard9.jpg', 'rotate322.jpg', 'cesun192.jpg', 'rotate248.jpg', 'cesun222.jpg', 'flip68.jpg', 'flip142.jpg', 'brightnessE189.jpg', 'cardboard237.jpg', 'brightnessE8.jpg', 'cesun111.jpg', 'flip110.jpg', 'rotate217.jpg', 'cesun278.jpg', 'brightnessE72.jpg', 'cardboard239.jpg', 'rotate84.jpg', 'rotate211.jpg', 'cardboard41.jpg', 'rotate233.jpg', 'brightnessE275.jpg', 'flip89.jpg', 'flip299.jpg', 'cesun290.jpg', 'cesun167.jpg', 'flip257.jpg', 'brightnessE320.jpg', 'cardboard8.jpg', 'rotate21.jpg', 'cardboard79.jpg', 'cardboard67.jpg', 'cesun269.jpg', 'rotate321.jpg', 'brightnessE78.jpg', 'brightnessE194.jpg', 'cardboard129.jpg', 'cesun203.jpg', 'rotate38.jpg', 'cesun277.jpg', 'rotate317.jpg', 'rotate27.jpg', 'brightnessE106.jpg', 'flip156.jpg', 'cardboard180.jpg', 'rotate56.jpg', 'rotate279.jpg', 'rotate74.jpg', 'brightnessE3.jpg', 'flip132.jpg', 'cesun233.jpg', 'rotate90.jpg', 'rotate95.jpg', 'flip47.jpg', 'cesun271.jpg', 'cesun140.jpg', 'brightnessE205.jpg', 'cesun199.jpg', 'cardboard279.jpg', 'flip128.jpg', 'flip275.jpg', 'flip234.jpg', 'cardboard115.jpg', 'rotate256.jpg', 'cesun11.jpg', 'cardboard350.jpg', 'cardboard269.jpg', 'cardboard370.jpg', 'cardboard352.jpg', 'cesun198.jpg', 'brightnessE124.jpg', 'rotate120.jpg', 'flip274.jpg', 'cardboard261.jpg', 'cardboard244.jpg', 'rotate201.jpg', 'cardboard256.jpg', 'rotate31.jpg', 'cardboard48.jpg', 'cesun315.jpg', 'brightnessE322.jpg', 'cesun2.jpg', 'flip244.jpg', 'brightnessE317.jpg', 'flip151.jpg', 'brightnessE291.jpg', 'cesun90.jpg', 'rotate116.jpg', 'rotate47.jpg', 'brightnessE75.jpg', 'cesun143.jpg', 'rotate308.jpg', 'cardboard49.jpg', 'cesun308.jpg', 'cesun208.jpg', 'brightnessE188.jpg', 'flip65.jpg', 'brightnessE160.jpg', 'brightnessE127.jpg', 'brightnessE96.jpg', 'brightnessE39.jpg', 'cardboard26.jpg', 'cesun253.jpg', 'rotate48.jpg', 'cesun206.jpg', 'cesun127.jpg', 'flip82.jpg', 'brightnessE240.jpg', 'cesun83.jpg', 'rotate41.jpg', 'flip311.jpg', 'flip37.jpg', 'rotate235.jpg', 'cesun321.jpg', 'cesun62.jpg', 'flip176.jpg', 'cesun125.jpg', 'rotate125.jpg', 'rotate319.jpg', 'flip94.jpg', 'flip45.jpg', 'rotate81.jpg', 'cesun217.jpg', 'cardboard179.jpg', 'flip238.jpg', 'brightnessE231.jpg', 'cesun262.jpg', 'flip256.jpg', 'flip270.jpg', 'rotate11.jpg', 'cesun87.jpg', 'cardboard220.jpg', 'brightnessE65.jpg', 'brightnessE271.jpg', 'cardboard17.jpg', 'rotate102.jpg', 'cesun155.jpg', 'flip224.jpg', 'flip54.jpg', 'rotate183.jpg', 'cesun115.jpg', 'brightnessE249.jpg', 'brightnessE110.jpg', 'brightnessE92.jpg', 'flip190.jpg', 'cardboard292.jpg', 'rotate139.jpg', 'flip101.jpg', 'brightnessE261.jpg', 'flip180.jpg', 'cardboard47.jpg', 'brightnessE37.jpg', 'brightnessE297.jpg', 'cesun76.jpg', 'flip273.jpg', 'cesun123.jpg', 'flip194.jpg', 'flip91.jpg', 'cesun57.jpg', 'flip231.jpg', 'brightnessE218.jpg', 'cardboard38.jpg', 'rotate14.jpg', 'flip105.jpg', 'rotate22.jpg', 'rotate69.jpg', 'cardboard342.jpg', 'flip49.jpg', 'brightnessE137.jpg', 'brightnessE223.jpg', 'rotate161.jpg', 'cesun61.jpg', 'brightnessE46.jpg', 'brightnessE84.jpg', 'rotate157.jpg', 'rotate7.jpg', 'cardboard190.jpg', 'cardboard336.jpg', 'cardboard19.jpg', 'rotate218.jpg', 'rotate94.jpg', 'brightnessE82.jpg', 'cesun309.jpg', 'cardboard372.jpg', 'flip143.jpg', 'cardboard314.jpg', 'flip17.jpg', 'cardboard281.jpg', 'flip308.jpg', 'rotate42.jpg', 'brightnessE36.jpg', 'cardboard382.jpg', 'cesun284.jpg', 'flip175.jpg', 'flip34.jpg', 'rotate295.jpg', 'brightnessE68.jpg', 'flip283.jpg', 'rotate186.jpg', 'flip116.jpg', 'cesun302.jpg', 'cardboard195.jpg', 'rotate40.jpg', 'cesun75.jpg', 'cesun104.jpg', 'rotate156.jpg', 'rotate70.jpg', 'rotate220.jpg', 'flip265.jpg', 'flip198.jpg', 'cesun292.jpg', 'cesun42.jpg', 'flip90.jpg', 'cesun191.jpg', 'brightnessE206.jpg', 'flip7.jpg', 'flip96.jpg', 'cesun174.jpg', 'flip219.jpg', 'rotate185.jpg', 'cardboard140.jpg', 'cardboard392.jpg', 'rotate251.jpg', 'brightnessE129.jpg', 'cardboard367.jpg', 'flip310.jpg', 'cesun296.jpg', 'cardboard324.jpg', 'rotate291.jpg', 'cardboard212.jpg', 'cardboard196.jpg', 'rotate72.jpg', 'cesun150.jpg', 'cardboard12.jpg', 'cesun141.jpg', 'flip55.jpg', 'cesun68.jpg', 'flip171.jpg', 'rotate63.jpg', 'brightnessE20.jpg', 'flip269.jpg', 'rotate254.jpg', 'brightnessE100.jpg', 'cardboard331.jpg', 'brightnessE212.jpg', 'cardboard27.jpg', 'cardboard114.jpg', 'rotate4.jpg', 'cardboard380.jpg', 'brightnessE180.jpg', 'cardboard186.jpg', 'rotate32.jpg', 'cesun207.jpg', 'flip215.jpg', 'flip293.jpg', 'flip181.jpg', 'cesun185.jpg', 'flip262.jpg', 'brightnessE238.jpg', 'cardboard169.jpg', 'flip307.jpg', 'cardboard338.jpg', 'rotate297.jpg', 'cesun105.jpg', 'brightnessE40.jpg', 'flip235.jpg', 'rotate68.jpg', 'brightnessE132.jpg', 'brightnessE27.jpg', 'flip300.jpg', 'rotate55.jpg', 'brightnessE99.jpg', 'brightnessE257.jpg', 'cardboard147.jpg', 'cardboard371.jpg', 'cardboard98.jpg', 'cardboard165.jpg', 'cesun146.jpg', 'rotate198.jpg', 'flip146.jpg', 'cesun163.jpg', 'cardboard89.jpg', 'rotate275.jpg', 'rotate2.jpg', 'brightnessE111.jpg', 'cesun14.jpg', 'cesun95.jpg', 'brightnessE159.jpg', 'cardboard326.jpg', 'cardboard280.jpg', 'brightnessE25.jpg', 'rotate315.jpg', 'rotate221.jpg', 'rotate296.jpg', 'cesun149.jpg', 'brightnessE143.jpg', 'brightnessE4.jpg', 'flip210.jpg', 'flip259.jpg', 'flip152.jpg', 'brightnessE293.jpg', 'cesun294.jpg', 'flip102.jpg', 'cardboard144.jpg', 'brightnessE131.jpg', 'rotate71.jpg', 'brightnessE195.jpg', 'cesun151.jpg', 'rotate207.jpg', 'brightnessE197.jpg', 'flip43.jpg', 'cesun65.jpg', 'rotate44.jpg', 'rotate260.jpg', 'cesun190.jpg', 'brightnessE242.jpg', 'rotate261.jpg', 'brightnessE66.jpg', 'rotate316.jpg', 'cesun13.jpg', 'cardboard197.jpg', 'cesun273.jpg', 'cesun205.jpg', 'cardboard28.jpg', 'rotate25.jpg', 'flip203.jpg', 'cardboard172.jpg', 'cardboard396.jpg', 'brightnessE211.jpg', 'cesun250.jpg', 'cardboard37.jpg', 'cardboard113.jpg', 'brightnessE251.jpg', 'cardboard192.jpg', 'cesun122.jpg', 'flip220.jpg', 'brightnessE149.jpg', 'flip77.jpg', 'brightnessE282.jpg', 'rotate290.jpg', 'flip217.jpg', 'brightnessE225.jpg', 'cardboard127.jpg', 'brightnessE69.jpg', 'brightnessE142.jpg', 'rotate238.jpg', 'cardboard374.jpg', 'flip264.jpg', 'rotate227.jpg', 'cesun180.jpg', 'brightnessE214.jpg', 'flip253.jpg', 'rotate223.jpg', 'brightnessE80.jpg', 'brightnessE171.jpg', 'flip15.jpg', 'brightnessE312.jpg', 'cesun45.jpg', 'rotate26.jpg', 'flip11.jpg', 'flip53.jpg', 'flip58.jpg', 'cesun73.jpg', 'cardboard391.jpg', 'flip4.jpg', 'brightnessE292.jpg', 'flip88.jpg', 'rotate204.jpg', 'cardboard390.jpg', 'flip63.jpg', 'cesun118.jpg', 'cesun85.jpg', 'brightnessE191.jpg', 'brightnessE77.jpg', 'cesun145.jpg', 'rotate12.jpg', 'flip255.jpg', 'flip314.jpg', 'brightnessE16.jpg', 'rotate128.jpg', 'flip61.jpg', 'brightnessE115.jpg', 'cardboard58.jpg', 'cesun245.jpg', 'cardboard175.jpg', 'brightnessE263.jpg', 'brightnessE200.jpg', 'rotate149.jpg', 'cesun3.jpg', 'rotate45.jpg', 'rotate228.jpg', 'brightnessE73.jpg', 'cesun301.jpg', 'flip14.jpg', 'cesun58.jpg', 'cesun310.jpg', 'rotate15.jpg', 'cesun23.jpg', 'cardboard241.jpg', 'flip31.jpg', 'flip162.jpg', 'cardboard337.jpg', 'cesun79.jpg', 'cardboard403.jpg', 'rotate39.jpg', 'cesun133.jpg', 'brightnessE272.jpg', 'brightnessE83.jpg', 'cesun289.jpg', 'cardboard31.jpg', 'rotate229.jpg', 'rotate60.jpg', 'cesun69.jpg', 'flip289.jpg', 'cesun260.jpg', 'cardboard251.jpg', 'cesun225.jpg', 'cardboard349.jpg', 'flip13.jpg', 'flip86.jpg', 'cesun265.jpg', 'cardboard122.jpg', 'cesun214.jpg', 'rotate243.jpg', 'flip313.jpg', 'brightnessE60.jpg', 'cesun210.jpg', 'rotate253.jpg', 'cesun71.jpg', 'brightnessE155.jpg', 'cardboard29.jpg', 'flip164.jpg', 'flip118.jpg', 'cesun114.jpg', 'flip212.jpg', 'flip281.jpg', 'brightnessE113.jpg', 'flip74.jpg', 'rotate231.jpg', 'cesun124.jpg', 'cardboard56.jpg', 'brightnessE288.jpg', 'brightnessE169.jpg', 'brightnessE281.jpg', 'flip298.jpg', 'brightnessE290.jpg', 'cardboard249.jpg', 'rotate50.jpg', 'cardboard259.jpg', 'cardboard234.jpg', 'cesun16.jpg', 'cesun47.jpg', 'flip297.jpg', 'rotate167.jpg', 'brightnessE237.jpg', 'rotate111.jpg', 'brightnessE299.jpg', 'cardboard347.jpg', 'cardboard92.jpg', 'cardboard225.jpg', 'brightnessE122.jpg', 'cesun51.jpg', 'brightnessE208.jpg', 'rotate259.jpg', 'cesun200.jpg', 'rotate190.jpg', 'cesun130.jpg', 'cardboard176.jpg', 'cardboard170.jpg', 'brightnessE109.jpg', 'flip98.jpg', 'flip189.jpg', 'cardboard157.jpg', 'flip115.jpg', 'cardboard300.jpg', 'flip245.jpg', 'flip48.jpg', 'flip178.jpg', 'flip315.jpg', 'rotate172.jpg', 'brightnessE176.jpg', 'cardboard202.jpg', 'cesun179.jpg', 'rotate8.jpg', 'cardboard290.jpg', 'flip174.jpg', 'flip201.jpg', 'rotate302.jpg', 'rotate164.jpg', 'flip303.jpg', 'flip252.jpg', 'flip40.jpg', 'cesun312.jpg', 'rotate97.jpg', 'rotate237.jpg', 'brightnessE85.jpg', 'cardboard282.jpg', 'cardboard397.jpg', 'rotate280.jpg', 'flip129.jpg', 'flip3.jpg', 'cesun238.jpg', 'brightnessE38.jpg', 'brightnessE202.jpg', 'rotate310.jpg', 'flip322.jpg', 'brightnessE76.jpg', 'cardboard25.jpg', 'cesun195.jpg', 'cardboard318.jpg', 'flip206.jpg', 'cardboard84.jpg', 'flip150.jpg', 'flip280.jpg', 'rotate192.jpg', 'brightnessE108.jpg', 'brightnessE61.jpg', 'cesun256.jpg', 'cesun182.jpg', 'brightnessE32.jpg', 'brightnessE264.jpg', 'cesun56.jpg', 'rotate158.jpg', 'cesun186.jpg', 'brightnessE33.jpg', 'cesun268.jpg', 'cesun243.jpg', 'rotate250.jpg', 'flip291.jpg', 'cardboard125.jpg', 'rotate222.jpg', 'cardboard52.jpg', 'cesun216.jpg', 'rotate197.jpg', 'rotate225.jpg', 'brightnessE103.jpg', 'flip51.jpg', 'rotate145.jpg', 'flip301.jpg', 'cesun128.jpg', 'cesun4.jpg', 'brightnessE47.jpg', 'cesun299.jpg', 'brightnessE119.jpg', 'rotate173.jpg', 'brightnessE178.jpg', 'brightnessE298.jpg', 'rotate286.jpg', 'cesun43.jpg', 'rotate257.jpg', 'flip170.jpg', 'brightnessE215.jpg', 'brightnessE270.jpg', 'cardboard364.jpg', 'rotate126.jpg', 'flip57.jpg', 'cesun239.jpg', 'cesun231.jpg', 'flip122.jpg', 'cardboard136.jpg', 'brightnessE58.jpg', 'cesun64.jpg', 'rotate306.jpg', 'rotate188.jpg', 'flip79.jpg', 'brightnessE220.jpg', 'cesun293.jpg', 'brightnessE164.jpg', 'cesun44.jpg', 'brightnessE62.jpg', 'rotate182.jpg', 'rotate194.jpg', 'cesun270.jpg', 'cardboard120.jpg', 'flip236.jpg', 'brightnessE287.jpg', 'rotate87.jpg', 'brightnessE168.jpg', 'cesun109.jpg', 'flip268.jpg', 'cesun254.jpg', 'cesun54.jpg', 'cardboard207.jpg', 'brightnessE49.jpg', 'cardboard116.jpg', 'flip309.jpg', 'cesun19.jpg', 'cardboard351.jpg', 'cesun171.jpg', 'cesun24.jpg', 'flip288.jpg', 'brightnessE56.jpg', 'flip193.jpg', 'cardboard130.jpg', 'cardboard167.jpg', 'cardboard158.jpg', 'cesun252.jpg', 'flip246.jpg', 'rotate209.jpg', 'cesun263.jpg', 'rotate1.jpg', 'flip109.jpg', 'cardboard22.jpg', 'cardboard188.jpg', 'cesun317.jpg', 'cardboard306.jpg', 'cardboard265.jpg', 'cardboard219.jpg', 'rotate109.jpg', 'flip254.jpg', 'brightnessE130.jpg', 'flip138.jpg', 'flip165.jpg', 'cardboard15.jpg', 'brightnessE239.jpg', 'cardboard57.jpg', 'rotate314.jpg', 'flip267.jpg', 'brightnessE166.jpg', 'flip223.jpg', 'rotate309.jpg', 'brightnessE276.jpg', 'cardboard168.jpg', 'cardboard316.jpg', 'cardboard20.jpg', 'cardboard187.jpg', 'rotate118.jpg', 'cesun15.jpg', 'cardboard232.jpg', 'cesun164.jpg', 'brightnessE259.jpg', 'flip207.jpg', 'cardboard33.jpg', 'rotate298.jpg', 'cardboard221.jpg', 'flip131.jpg', 'brightnessE248.jpg', 'flip167.jpg', 'cesun283.jpg', 'brightnessE57.jpg', 'cardboard178.jpg', 'rotate300.jpg', 'rotate86.jpg', 'rotate35.jpg', 'cesun165.jpg', 'flip1.jpg', 'rotate195.jpg', 'flip73.jpg', 'cardboard348.jpg', 'rotate143.jpg', 'cardboard132.jpg', 'cardboard388.jpg', 'flip205.jpg', 'cardboard103.jpg', 'flip163.jpg', 'cesun144.jpg', 'flip321.jpg', 'cardboard235.jpg', 'flip168.jpg', 'rotate303.jpg', 'rotate214.jpg', 'brightnessE64.jpg', 'brightnessE125.jpg', 'flip157.jpg', 'flip188.jpg', 'cardboard75.jpg', 'flip136.jpg', 'cesun66.jpg', 'cardboard73.jpg', 'cesun181.jpg', 'cardboard379.jpg', 'rotate312.jpg', 'cardboard203.jpg', 'brightnessE14.jpg', 'rotate247.jpg', 'cesun46.jpg', 'rotate62.jpg', 'flip319.jpg', 'cesun121.jpg', 'flip125.jpg', 'rotate265.jpg', 'brightnessE213.jpg', 'cardboard208.jpg', 'cesun318.jpg', 'rotate104.jpg', 'rotate16.jpg', 'cardboard65.jpg', 'flip302.jpg', 'cardboard156.jpg', 'cardboard267.jpg', 'cardboard185.jpg', 'cardboard254.jpg', 'rotate262.jpg', 'cardboard11.jpg', 'cesun91.jpg', 'brightnessE79.jpg', 'rotate184.jpg', 'flip100.jpg', 'cardboard276.jpg', 'cesun6.jpg', 'brightnessE153.jpg', 'cardboard148.jpg', 'brightnessE198.jpg', 'rotate219.jpg', 'cardboard238.jpg', 'cardboard327.jpg', 'rotate252.jpg', 'cardboard303.jpg', 'flip149.jpg', 'rotate267.jpg', 'rotate199.jpg', 'cardboard293.jpg', 'flip28.jpg', 'brightnessE10.jpg', 'brightnessE156.jpg', 'rotate17.jpg', 'cesun227.jpg', 'cesun96.jpg', 'cesun316.jpg', 'brightnessE170.jpg', 'cesun39.jpg', 'cesun298.jpg', 'flip263.jpg', 'rotate282.jpg', 'flip227.jpg', 'cardboard3.jpg', 'flip2.jpg', 'brightnessE306.jpg', 'flip237.jpg', 'cesun107.jpg', 'cardboard42.jpg', 'flip97.jpg', 'cesun60.jpg', 'rotate52.jpg', 'flip272.jpg', 'cardboard359.jpg', 'rotate268.jpg', 'cesun251.jpg', 'flip133.jpg', 'cesun304.jpg', 'flip312.jpg', 'cardboard231.jpg', 'rotate19.jpg', 'cardboard321.jpg', 'brightnessE236.jpg', 'flip277.jpg', 'cardboard284.jpg', 'cesun92.jpg', 'cardboard277.jpg', 'rotate53.jpg', 'flip213.jpg', 'rotate202.jpg', 'brightnessE112.jpg', 'cardboard137.jpg', 'cardboard305.jpg', 'brightnessE186.jpg', 'cardboard183.jpg', 'flip67.jpg', 'brightnessE258.jpg', 'cesun189.jpg', 'flip75.jpg', 'rotate130.jpg', 'cesun20.jpg', 'flip103.jpg', 'brightnessE117.jpg', 'rotate148.jpg', 'flip123.jpg', 'cesun218.jpg', 'flip271.jpg', 'cesun8.jpg', 'cardboard393.jpg', 'cardboard230.jpg', 'brightnessE318.jpg', 'rotate272.jpg', 'rotate179.jpg', 'flip211.jpg', 'flip179.jpg', 'flip183.jpg', 'cardboard149.jpg', 'brightnessE71.jpg', 'cesun88.jpg', 'rotate67.jpg', 'rotate189.jpg', 'brightnessE150.jpg', 'rotate160.jpg', 'cesun50.jpg', 'cesun22.jpg', 'cesun247.jpg', 'rotate203.jpg', 'cardboard317.jpg', 'brightnessE35.jpg', 'flip222.jpg', 'brightnessE253.jpg', 'flip10.jpg', 'cesun32.jpg', 'rotate274.jpg', 'cesun81.jpg', 'cardboard13.jpg', 'cesun94.jpg', 'flip240.jpg', 'flip186.jpg', 'cardboard118.jpg', 'cardboard128.jpg', 'brightnessE250.jpg', 'brightnessE53.jpg', 'flip70.jpg', 'brightnessE97.jpg', 'cardboard154.jpg', 'brightnessE182.jpg', 'rotate151.jpg', 'flip208.jpg', 'cesun137.jpg', 'brightnessE24.jpg', 'cardboard236.jpg', 'cardboard345.jpg', 'brightnessE216.jpg', 'cardboard294.jpg', 'brightnessE289.jpg', 'rotate226.jpg', 'brightnessE55.jpg', 'flip99.jpg', 'cesun86.jpg', 'cesun159.jpg', 'rotate255.jpg', 'brightnessE5.jpg', 'flip87.jpg', 'flip185.jpg', 'brightnessE135.jpg', 'cardboard329.jpg', 'cesun322.jpg', 'flip276.jpg', 'cardboard50.jpg', 'flip124.jpg', 'rotate43.jpg', 'brightnessE89.jpg', 'cesun248.jpg', 'cardboard173.jpg', 'cesun295.jpg', 'brightnessE227.jpg', 'cardboard108.jpg', 'rotate273.jpg', 'cesun166.jpg', 'brightnessE305.jpg', 'flip59.jpg', 'cesun116.jpg', 'brightnessE315.jpg', 'cardboard211.jpg', 'cesun28.jpg', 'cardboard77.jpg', 'rotate236.jpg', 'brightnessE254.jpg', 'cardboard96.jpg', 'rotate65.jpg', 'cardboard138.jpg', 'cardboard383.jpg', 'rotate131.jpg', 'rotate212.jpg', 'cesun169.jpg', 'rotate162.jpg', 'brightnessE12.jpg', 'rotate299.jpg', 'cardboard105.jpg', 'rotate136.jpg', 'brightnessE273.jpg', 'brightnessE54.jpg', 'flip52.jpg', 'cesun285.jpg', 'flip18.jpg', 'rotate293.jpg', 'flip108.jpg', 'rotate36.jpg', 'cesun153.jpg', 'rotate288.jpg', 'rotate78.jpg', 'brightnessE101.jpg', 'cesun34.jpg', 'cesun221.jpg', 'flip21.jpg', 'cardboard63.jpg', 'cesun244.jpg', 'cardboard361.jpg', 'flip27.jpg', 'flip320.jpg', 'cardboard184.jpg', 'rotate98.jpg', 'rotate105.jpg', 'brightnessE321.jpg', 'cesun142.jpg', 'rotate114.jpg', 'cesun279.jpg', 'flip261.jpg', 'cardboard333.jpg', 'rotate79.jpg', 'cardboard145.jpg', 'brightnessE17.jpg', 'brightnessE222.jpg', 'brightnessE67.jpg', 'cesun281.jpg', 'flip83.jpg', 'rotate103.jpg', 'cesun311.jpg', 'cardboard54.jpg', 'cardboard119.jpg', 'flip113.jpg', 'flip36.jpg', 'cesun10.jpg', 'flip249.jpg', 'rotate146.jpg', 'flip112.jpg', 'cardboard247.jpg', 'brightnessE319.jpg', 'rotate170.jpg', 'rotate281.jpg', 'brightnessE161.jpg', 'brightnessE98.jpg', 'flip243.jpg', 'rotate64.jpg', 'brightnessE30.jpg', 'cesun319.jpg', 'flip248.jpg', 'cesun1.jpg', 'brightnessE11.jpg', 'flip160.jpg', 'flip250.jpg', 'rotate206.jpg', 'flip9.jpg', 'cardboard248.jpg', 'rotate61.jpg', 'cardboard117.jpg', 'rotate285.jpg', 'cesun97.jpg', 'rotate82.jpg', 'rotate271.jpg', 'cesun12.jpg', 'rotate33.jpg', 'cardboard233.jpg', 'rotate276.jpg', 'cesun170.jpg', 'rotate141.jpg', 'flip148.jpg', 'brightnessE192.jpg', 'cardboard274.jpg', 'rotate244.jpg', 'cardboard260.jpg', 'cardboard250.jpg', 'cesun234.jpg', 'cesun226.jpg', 'flip104.jpg', 'brightnessE123.jpg', 'rotate277.jpg', 'cesun136.jpg', 'cardboard194.jpg', 'rotate283.jpg', 'cardboard71.jpg', 'cesun152.jpg', 'cardboard181.jpg', 'brightnessE19.jpg', 'flip161.jpg', 'rotate304.jpg', 'rotate234.jpg', 'brightnessE316.jpg', 'flip71.jpg', 'cardboard217.jpg', 'cardboard30.jpg', 'brightnessE104.jpg', 'rotate124.jpg', 'flip239.jpg', 'flip306.jpg', 'cardboard278.jpg', 'flip266.jpg', 'cesun5.jpg', 'brightnessE26.jpg', 'rotate177.jpg', 'flip93.jpg', 'flip228.jpg', 'cardboard200.jpg', 'brightnessE7.jpg', 'brightnessE304.jpg', 'brightnessE29.jpg', 'cardboard283.jpg', 'cardboard80.jpg', 'brightnessE175.jpg', 'cesun266.jpg', 'flip62.jpg', 'flip284.jpg', 'brightnessE151.jpg', 'flip200.jpg', 'cesun246.jpg', 'brightnessE18.jpg', 'rotate140.jpg', 'cesun172.jpg', 'cardboard191.jpg', 'flip120.jpg', 'cardboard366.jpg', 'brightnessE59.jpg', 'rotate134.jpg', 'brightnessE86.jpg', 'brightnessE230.jpg', 'brightnessE255.jpg', 'flip76.jpg', 'rotate174.jpg', 'cardboard291.jpg', 'cardboard304.jpg', 'flip158.jpg', 'rotate208.jpg', 'rotate49.jpg', 'rotate153.jpg', 'cardboard61.jpg', 'brightnessE138.jpg', 'brightnessE204.jpg', 'cardboard270.jpg', 'flip153.jpg', 'brightnessE134.jpg', 'cardboard387.jpg', 'flip197.jpg', 'rotate144.jpg', 'cesun17.jpg', 'cesun102.jpg', 'brightnessE260.jpg', 'cesun103.jpg', 'cesun132.jpg', 'brightnessE158.jpg', 'rotate264.jpg', 'brightnessE284.jpg', 'cardboard266.jpg', 'brightnessE267.jpg', 'rotate80.jpg', 'rotate85.jpg', 'flip29.jpg', 'flip209.jpg', 'cesun286.jpg', 'cardboard358.jpg', 'brightnessE301.jpg', 'brightnessE221.jpg', 'brightnessE295.jpg', 'flip144.jpg', 'cesun229.jpg', 'cardboard163.jpg', 'cardboard7.jpg', 'cardboard146.jpg', 'rotate23.jpg', 'rotate113.jpg', 'cardboard177.jpg', 'brightnessE269.jpg', 'cardboard223.jpg', 'brightnessE48.jpg', 'cesun193.jpg', 'cardboard155.jpg', 'flip191.jpg', 'rotate115.jpg', 'brightnessE278.jpg', 'flip304.jpg', 'rotate51.jpg', 'rotate320.jpg', 'cardboard18.jpg', 'brightnessE144.jpg', 'cesun300.jpg', 'cesun184.jpg', 'cesun41.jpg', 'cardboard204.jpg', 'cardboard341.jpg', 'brightnessE90.jpg', 'cardboard287.jpg', 'flip285.jpg', 'cardboard87.jpg', 'cardboard216.jpg', 'cesun112.jpg', 'rotate75.jpg', 'rotate216.jpg', 'rotate24.jpg', 'rotate93.jpg', 'cesun53.jpg', 'brightnessE279.jpg', 'flip12.jpg', 'cesun131.jpg', 'flip251.jpg', 'cesun99.jpg', 'flip172.jpg', 'cardboard323.jpg', 'brightnessE245.jpg', 'brightnessE232.jpg', 'cesun241.jpg', 'brightnessE70.jpg', 'rotate154.jpg', 'cesun255.jpg', 'cesun147.jpg', 'rotate224.jpg', 'brightnessE148.jpg', 'cesun160.jpg', 'cardboard210.jpg', 'brightnessE94.jpg', 'rotate175.jpg', 'flip260.jpg', 'rotate34.jpg', 'flip22.jpg', 'cardboard334.jpg', 'rotate100.jpg', 'cardboard102.jpg', 'flip166.jpg', 'flip5.jpg', 'brightnessE235.jpg', 'cesun59.jpg', 'flip85.jpg', 'brightnessE266.jpg', 'cesun117.jpg', 'rotate37.jpg', 'cesun194.jpg', 'rotate112.jpg', 'brightnessE256.jpg', 'brightnessE6.jpg', 'brightnessE177.jpg', 'cardboard1.jpg', 'cardboard93.jpg', 'cardboard6.jpg', 'rotate91.jpg', 'cesun215.jpg', 'brightnessE133.jpg', 'flip106.jpg', 'cardboard296.jpg', 'brightnessE51.jpg', 'cardboard377.jpg', 'cesun21.jpg', 'cesun82.jpg', 'flip241.jpg', 'flip218.jpg', 'cardboard245.jpg', 'rotate13.jpg', 'brightnessE309.jpg', 'rotate155.jpg', 'brightnessE173.jpg', 'brightnessE95.jpg', 'flip221.jpg', 'flip64.jpg', 'flip39.jpg', 'brightnessE207.jpg', 'cesun30.jpg', 'rotate178.jpg', 'rotate77.jpg', 'rotate6.jpg', 'rotate292.jpg', 'cardboard171.jpg', 'cardboard375.jpg', 'brightnessE43.jpg', 'cardboard131.jpg', 'cardboard99.jpg', 'cesun257.jpg', 'brightnessE243.jpg', 'flip8.jpg', 'flip139.jpg', 'brightnessE252.jpg', 'cesun307.jpg', 'rotate121.jpg', 'cardboard53.jpg', 'flip46.jpg', 'brightnessE23.jpg', 'rotate165.jpg', 'brightnessE121.jpg', 'brightnessE307.jpg', 'rotate106.jpg', 'rotate142.jpg', 'flip20.jpg', 'cesun276.jpg', 'cardboard44.jpg', 'cardboard174.jpg', 'cardboard376.jpg', 'cesun162.jpg', 'brightnessE154.jpg', 'cesun106.jpg', 'cardboard16.jpg', 'cesun80.jpg', 'brightnessE217.jpg', 'cardboard373.jpg', 'brightnessE190.jpg', 'rotate215.jpg', 'cardboard354.jpg', 'rotate129.jpg', 'rotate176.jpg', 'brightnessE229.jpg', 'cesun37.jpg', 'brightnessE294.jpg', 'brightnessE233.jpg', 'flip147.jpg', 'flip182.jpg', 'cardboard362.jpg', 'brightnessE163.jpg', 'cardboard299.jpg', 'flip216.jpg', 'cardboard297.jpg', 'brightnessE201.jpg', 'cardboard301.jpg', 'flip25.jpg', 'brightnessE28.jpg', 'brightnessE105.jpg', 'cesun158.jpg', 'brightnessE302.jpg', 'rotate119.jpg', 'brightnessE314.jpg', 'brightnessE157.jpg', 'flip23.jpg', 'flip296.jpg', 'rotate147.jpg', 'cesun108.jpg', 'cesun291.jpg', 'rotate18.jpg', 'brightnessE2.jpg', 'cesun84.jpg', 'rotate54.jpg', 'rotate230.jpg', 'flip225.jpg', 'rotate246.jpg', 'cardboard2.jpg', 'flip121.jpg', 'flip169.jpg', 'cardboard320.jpg', 'flip292.jpg', 'cesun211.jpg', 'flip226.jpg', 'cesun212.jpg', 'cardboard182.jpg', 'flip60.jpg', 'cardboard365.jpg', 'brightnessE50.jpg', 'cesun67.jpg', 'rotate266.jpg', 'cesun235.jpg', 'cardboard285.jpg', 'cardboard313.jpg', 'cardboard246.jpg', 'cesun101.jpg', 'brightnessE81.jpg', 'brightnessE136.jpg', 'cardboard242.jpg', 'cardboard91.jpg', 'cardboard389.jpg', 'rotate117.jpg', 'rotate284.jpg', 'flip287.jpg', 'cesun161.jpg', 'rotate20.jpg', 'rotate137.jpg', 'cardboard271.jpg', 'rotate9.jpg', 'rotate46.jpg', 'cardboard5.jpg', 'cardboard339.jpg', 'flip30.jpg', 'rotate166.jpg', 'cesun52.jpg', 'brightnessE116.jpg', 'flip119.jpg', 'cesun183.jpg', 'rotate83.jpg', 'rotate168.jpg', 'rotate127.jpg', 'cesun201.jpg', 'rotate205.jpg', 'cardboard126.jpg', 'brightnessE22.jpg', 'brightnessE140.jpg', 'cardboard399.jpg', 'cardboard253.jpg', 'rotate249.jpg', 'brightnessE184.jpg', 'cardboard152.jpg', 'cesun156.jpg', 'cardboard14.jpg', 'cesun242.jpg', 'flip50.jpg', 'flip16.jpg', 'cardboard45.jpg', 'cardboard104.jpg', 'rotate99.jpg', 'flip134.jpg', 'rotate196.jpg', 'flip84.jpg', 'cardboard143.jpg', 'cardboard55.jpg', 'rotate76.jpg', 'cardboard310.jpg', 'brightnessE300.jpg', 'cardboard34.jpg', 'flip114.jpg', 'brightnessE179.jpg', 'brightnessE193.jpg', 'flip130.jpg', 'brightnessE280.jpg', 'cardboard400.jpg', 'cardboard302.jpg', 'flip305.jpg', 'cesun197.jpg', 'cesun72.jpg', 'flip204.jpg', 'flip19.jpg', 'cesun236.jpg', 'cardboard243.jpg', 'flip294.jpg', 'brightnessE199.jpg', 'flip242.jpg', 'rotate66.jpg', 'brightnessE296.jpg', 'cesun157.jpg', 'flip78.jpg', 'flip232.jpg', 'flip135.jpg', 'flip247.jpg', 'flip192.jpg', 'rotate193.jpg', 'brightnessE162.jpg', 'cesun168.jpg', 'cesun55.jpg', 'flip42.jpg']\n"
          ],
          "name": "stdout"
        }
      ]
    },
    {
      "cell_type": "code",
      "metadata": {
        "id": "rty2lwfhInVm",
        "colab_type": "code",
        "colab": {}
      },
      "source": [
        "data_transform = transforms.Compose([\n",
        "    Resize(84),\n",
        "    transforms.CenterCrop(84),\n",
        "    transforms.ToTensor(),\n",
        "    transforms.Normalize(mean = [0.5,0.5,0.5],std = [0.5,0.5,0.5])\n",
        "    \n",
        "])\n",
        " \n",
        "train_dataset = datasets.ImageFolder(root = '/content/data/train/',transform = data_transform)\n",
        "train_loader = torch.utils.data.DataLoader(train_dataset,batch_size = 128,shuffle = True,num_workers = 4)\n",
        " \n",
        "test_dataset = datasets.ImageFolder(root = '/content/data/test/',transform = data_transform)\n",
        "test_loader = torch.utils.data.DataLoader(test_dataset,batch_size = 16,shuffle = True,num_workers = 4)\n"
      ],
      "execution_count": 0,
      "outputs": []
    },
    {
      "cell_type": "code",
      "metadata": {
        "id": "sNYfzeLtIniQ",
        "colab_type": "code",
        "colab": {}
      },
      "source": [
        "class Net(nn.Module):\n",
        "    def __init__(self):\n",
        "        super(Net,self).__init__()\n",
        "        \n",
        "        self.conv1 = nn.Conv2d(3,12,5)\n",
        "        self.pool = nn.MaxPool2d(2,2)\n",
        "        self.conv2 = nn.Conv2d(12,32,5)\n",
        "        self.fc1 = nn.Linear(32 * 18 * 18,800)\n",
        "        self.fc2 = nn.Linear(800,120)\n",
        "        self.fc3 = nn.Linear(120,6)\n",
        "        \n",
        "    def forward(self,x):\n",
        "        x = self.pool(F.relu(self.conv1(x)))\n",
        "        x = self.pool(F.relu(self.conv2(x)))\n",
        "        x = x.view(-1,32 * 18 * 18)\n",
        "        x = F.relu(self.fc1(x))\n",
        "        x = F.relu(self.fc2(x))\n",
        "        x = self.fc3(x)\n",
        "        \n",
        "        return x\n",
        " \n",
        "net = Net()\n"
      ],
      "execution_count": 0,
      "outputs": []
    },
    {
      "cell_type": "code",
      "metadata": {
        "id": "eiWd4GY1I7Gx",
        "colab_type": "code",
        "outputId": "09618efd-6471-4338-90ce-23e15ee3b223",
        "colab": {
          "base_uri": "https://localhost:8080/",
          "height": 1000
        }
      },
      "source": [
        "import torch.optim as optim\n",
        " \n",
        "cirterion = nn.CrossEntropyLoss()\n",
        "optimizer = optim.SGD(net.parameters(),lr = 0.1,momentum = 0.9)\n",
        " \n",
        "for epoch in range(20):\n",
        "    running_loss = 0.0\n",
        "    print(\"epoch\"+str(epoch))\n",
        "    for i,data in enumerate(train_loader,0):\n",
        "        inputs,labels = data\n",
        "        inputs,labels = Variable(inputs),Variable(labels)\n",
        "        optimizer.zero_grad()\n",
        "        outputs = net(inputs)\n",
        "        loss = cirterion(outputs,labels)\n",
        "        loss.backward()\n",
        "        optimizer.step()\n",
        "        \n",
        "\n",
        "        running_loss += loss.item()\n",
        "        \n",
        "        if i%39 == 0 and i!=0 :\n",
        "            print('[%d %5d] loss: %.3f' % ((i/39-1)*39, i ,running_loss / 39))\n",
        "            running_loss = 0.0\n",
        " \n",
        "print('finished training!')\n"
      ],
      "execution_count": 13,
      "outputs": [
        {
          "output_type": "stream",
          "text": [
            "epoch0\n",
            "[0    39] loss: 1.704\n",
            "[39    78] loss: 1.630\n",
            "epoch1\n",
            "[0    39] loss: 1.485\n",
            "[39    78] loss: 1.356\n",
            "epoch2\n",
            "[0    39] loss: 1.229\n",
            "[39    78] loss: 1.411\n",
            "epoch3\n",
            "[0    39] loss: 1.249\n",
            "[39    78] loss: 1.168\n",
            "epoch4\n",
            "[0    39] loss: 0.977\n",
            "[39    78] loss: 0.922\n",
            "epoch5\n",
            "[0    39] loss: 0.644\n",
            "[39    78] loss: 0.697\n",
            "epoch6\n",
            "[0    39] loss: 0.486\n",
            "[39    78] loss: 0.515\n",
            "epoch7\n",
            "[0    39] loss: 0.376\n",
            "[39    78] loss: 0.384\n",
            "epoch8\n",
            "[0    39] loss: 0.256\n",
            "[39    78] loss: 0.285\n",
            "epoch9\n",
            "[0    39] loss: 0.239\n",
            "[39    78] loss: 0.279\n",
            "epoch10\n",
            "[0    39] loss: 0.160\n",
            "[39    78] loss: 0.189\n",
            "epoch11\n",
            "[0    39] loss: 0.137\n",
            "[39    78] loss: 0.184\n",
            "epoch12\n",
            "[0    39] loss: 0.111\n",
            "[39    78] loss: 0.100\n",
            "epoch13\n",
            "[0    39] loss: 0.092\n",
            "[39    78] loss: 0.109\n",
            "epoch14\n",
            "[0    39] loss: 0.129\n",
            "[39    78] loss: 0.121\n",
            "epoch15\n",
            "[0    39] loss: 0.066\n",
            "[39    78] loss: 0.082\n",
            "epoch16\n",
            "[0    39] loss: 0.038\n",
            "[39    78] loss: 0.066\n",
            "epoch17\n",
            "[0    39] loss: 0.056\n",
            "[39    78] loss: 0.070\n",
            "epoch18\n",
            "[0    39] loss: 0.094\n",
            "[39    78] loss: 0.069\n",
            "epoch19\n",
            "[0    39] loss: 0.062\n",
            "[39    78] loss: 0.073\n",
            "epoch20\n",
            "[0    39] loss: 0.067\n",
            "[39    78] loss: 0.057\n",
            "epoch21\n",
            "[0    39] loss: 0.028\n",
            "[39    78] loss: 0.072\n",
            "epoch22\n",
            "[0    39] loss: 0.034\n",
            "[39    78] loss: 0.049\n",
            "epoch23\n",
            "[0    39] loss: 0.041\n",
            "[39    78] loss: 0.046\n",
            "epoch24\n",
            "[0    39] loss: 0.035\n",
            "[39    78] loss: 0.029\n",
            "epoch25\n",
            "[0    39] loss: 0.019\n",
            "[39    78] loss: 0.049\n",
            "epoch26\n",
            "[0    39] loss: 0.080\n",
            "[39    78] loss: 0.037\n",
            "epoch27\n",
            "[0    39] loss: 0.040\n",
            "[39    78] loss: 0.056\n",
            "epoch28\n",
            "[0    39] loss: 0.038\n",
            "[39    78] loss: 0.048\n",
            "epoch29\n",
            "[0    39] loss: 0.043\n",
            "[39    78] loss: 0.018\n",
            "epoch30\n",
            "[0    39] loss: 0.058\n",
            "[39    78] loss: 0.056\n",
            "epoch31\n",
            "[0    39] loss: 0.059\n",
            "[39    78] loss: 0.093\n",
            "epoch32\n",
            "[0    39] loss: 0.038\n",
            "[39    78] loss: 0.035\n",
            "epoch33\n",
            "[0    39] loss: 0.016\n",
            "[39    78] loss: 0.013\n",
            "epoch34\n",
            "[0    39] loss: 0.014\n",
            "[39    78] loss: 0.025\n",
            "epoch35\n",
            "[0    39] loss: 0.024\n",
            "[39    78] loss: 0.014\n",
            "epoch36\n",
            "[0    39] loss: 0.016\n",
            "[39    78] loss: 0.015\n",
            "epoch37\n",
            "[0    39] loss: 0.010\n",
            "[39    78] loss: 0.008\n",
            "epoch38\n",
            "[0    39] loss: 0.010\n",
            "[39    78] loss: 0.010\n",
            "epoch39\n",
            "[0    39] loss: 0.005\n",
            "[39    78] loss: 0.004\n",
            "finished training!\n"
          ],
          "name": "stdout"
        }
      ]
    },
    {
      "cell_type": "code",
      "metadata": {
        "id": "jE8Aq0H7JNCk",
        "colab_type": "code",
        "outputId": "7cf35965-0ef7-463b-f259-cd3440fae183",
        "colab": {
          "base_uri": "https://localhost:8080/",
          "height": 35
        }
      },
      "source": [
        "correct = 0\n",
        "total = 0\n",
        " \n",
        "for data in test_loader:\n",
        "    images,labels = data\n",
        "    outputs = net(Variable(images))\n",
        "    _,predicted = torch.max(outputs.data,1)\n",
        "    total += labels.size(0)\n",
        "    correct += (predicted == labels).sum()\n",
        " \n",
        "print('Accuracy of the network on the  test images: %d %%' % (100 * correct / total))\n"
      ],
      "execution_count": 14,
      "outputs": [
        {
          "output_type": "stream",
          "text": [
            "Accuracy of the network on the  test images: 54 %\n"
          ],
          "name": "stdout"
        }
      ]
    },
    {
      "cell_type": "code",
      "metadata": {
        "id": "yqHgZfj5Kxim",
        "colab_type": "code",
        "outputId": "26499bc7-6d30-40fa-c21f-d6fad62748ed",
        "colab": {
          "base_uri": "https://localhost:8080/",
          "height": 205
        }
      },
      "source": [
        "import matplotlib.pyplot as plt\n",
        "import numpy as np\n",
        "import torch\n",
        "import torchvision\n",
        "\n",
        "\n",
        "def imshow(img):\n",
        "  img = img/2+0.5 \n",
        "  npimg = img.numpy()\n",
        "  plt.imshow(np.transpose(npimg, (1, 2, 0)))\n",
        "  plt.show()\n",
        "\n",
        "\n",
        "dataiter=iter(test_loader)\n",
        "images,labels=dataiter.next()\n",
        "\n",
        "\n",
        "imshow(torchvision.utils.make_grid(images))\n",
        "print(\"图像标签为：\")\n",
        "print('GroundTruth: ', ' '.join('%5s'% waste_types[labels[j]] for j in range(16)))\n",
        "outputs = net(images)\n",
        "predicted=torch.max(outputs,1)[1].numpy()\n",
        "print(\"预测结果为：\")\n",
        "print('Predicted: ', ' '.join('%5s'% waste_types[predicted[j]] for j in range(16)))\n"
      ],
      "execution_count": 15,
      "outputs": [
        {
          "output_type": "display_data",
          "data": {
            "image/png": "[encoded data removed]",
            "text/plain": [
              "<Figure size 432x288 with 1 Axes>"
            ]
          },
          "metadata": {
            "tags": [],
            "needs_background": "light"
          }
        },
        {
          "output_type": "stream",
          "text": [
            "图像标签为：\n",
            "GroundTruth:  plastic paper plastic cardboard metal metal glass cardboard glass trash cardboard plastic glass cardboard metal glass\n",
            "预测结果为：\n",
            "Predicted:  metal paper paper cardboard metal cardboard metal paper metal glass glass plastic metal paper metal plastic\n"
          ],
          "name": "stdout"
        }
      ]
    }
  ]
}